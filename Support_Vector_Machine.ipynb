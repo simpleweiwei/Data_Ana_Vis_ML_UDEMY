{
 "cells": [
  {
   "cell_type": "markdown",
   "metadata": {},
   "source": [
    "### Support Vector Machines\n",
    "Support Vector Machines (SVM) are a method that uses points in a transformed problem space that best separate classes into two groups. Classification for multiple classes is then supported by a one-vs-all method (just like we previously did for Logistic Regression for Multi Class Classification).  \n",
    "\n",
    "This lecture section will be broken up by the following sections:  \n",
    "Part 1: Introduction to Support Vector Machines  \n",
    "Part 2: SVM General Explanation  \n",
    "Part 3: Computing the Hyperplane  \n",
    "Part 4: Additional Math Resources  \n",
    "Part 5: SVM with Sci Kit Learn  \n",
    "Part 6: Additional Resources  \n",
    "\n",
    "#### Part 1: Introduction to Support Vector Machines  \n",
    "Formal Explanation:  \n",
    "In machine learning, support vector machines (SVMs) are supervised learning models with associated learning algorithms that analyze data and recognize patterns, used for classification and regression analysis. Given a set of training examples, each marked for belonging to one of two categories, an SVM training algorithm builds a model that assigns new examples into one category or the other, making it a non-probabilistic binary linear classifier. An SVM model is a representation of the examples as points in space, mapped so that the examples of the separate categories are divided by a clear gap that is as wide as possible. New examples are then mapped into that same space and predicted to belong to a category based on which side of the gap they fall on.\n",
    "\n",
    "The **advantages** of support vector machines are:  \n",
    "* Effective in high dimensional spaces.\n",
    "* Still effective in cases where number of dimensions is greater than the number of samples.\n",
    "* Uses a subset of training points in the decision function (called support vectors), so it is also memory efficient.  \n",
    "* Versatile: different Kernel functions can be specified for the decision function. Common kernels are provided, but it is also possible to specify custom kernels.\n",
    "\n",
    "The **disadvantages** of support vector machines include:  \n",
    "* If the number of features is much greater than the number of samples, the method is likely to give poor performances.  \n",
    "* SVMs do not directly provide probability estimates, these are calculated using an expensive five-fold cross-validation (see Scores and probabilities, below).  \n",
    "\n",
    "Let's go ahead and break down the main idea of SVMs!  \n",
    "\n",
    "#### Part 2: SVM General Explanation\n",
    "We'll start by imagining a situation in which we want to seperate a training set with two classes. We have two classes in our set, blue and red. We plot them out in the feature space and we try to place a green line that seperates both classes."
   ]
  },
  {
   "cell_type": "code",
   "execution_count": 3,
   "metadata": {
    "collapsed": false
   },
   "outputs": [
    {
     "data": {
      "image/png": "[encoded data removed]",
      "text/plain": [
       "<IPython.core.display.Image object>"
      ]
     },
     "execution_count": 3,
     "metadata": {},
     "output_type": "execute_result"
    }
   ],
   "source": [
    "from IPython.display import Image\n",
    "url = 'http://docs.opencv.org/3.0-rc1/separating-lines.png'\n",
    "Image(url)"
   ]
  },
  {
   "cell_type": "code",
   "execution_count": 5,
   "metadata": {
    "collapsed": false
   },
   "outputs": [
    {
     "data": {
      "image/png": "[encoded data removed]",
      "text/plain": [
       "<IPython.core.display.Image object>"
      ]
     },
     "execution_count": 5,
     "metadata": {},
     "output_type": "execute_result"
    }
   ],
   "source": [
    "url= 'http://docs.opencv.org/3.0-rc1/optimal-hyperplane.png'\n",
    "Image(url)"
   ]
  },
  {
   "cell_type": "markdown",
   "metadata": {},
   "source": [
    "\n",
    "From the image above we see that we have multiple ways of drawing this line (which we will call a hyperplane) that can seperate the classes completely. So which is the optimal line?\n",
    "We decide that the optimal hyperplane that seperates these two classes is the one with the maximum margin between the two classes as seen in the image below:"
   ]
  },
  {
   "cell_type": "markdown",
   "metadata": {},
   "source": [
    "So how do we actually mathematically compute that optimal hyperplane? I'll explain with a very brief overview below in Part 3, but I highly suggest you check out the full explanation on [Wikipedia](https://en.wikipedia.org/wiki/Support_vector_machine) or in the lecture videos following Part 3."
   ]
  },
  {
   "cell_type": "markdown",
   "metadata": {},
   "source": [
    "Part 3: Computing the Hyperplane\n",
    "Let's go ahead and start by defining the Hyperplane in this case with the equation of a line, where Beta tranposed is the known weight vector of the features we've seen before and Beta nought is the bias.\n",
    "$$ f(x) = \\beta_{0} + \\beta^{T} x $$\n",
    "There are an infinite number of ways we could scale the weight vector and the bias, but remember we want to maximize the margin between the two classes. So we realize through some math (explained in detail the videos below) can set this as:\n",
    "$$ |\\beta_{0} + \\beta^{T} x| = 1 $$\n",
    "where x symbolizes the training examples closest to the hyperplane. In general, the training examples that are closest to the hyperplane are called support vectors. These support vectors are filled in with color in the image above. This representation is known as the canonical hyperplane.\n",
    "From geometry we know that the distance betweeen a point x and the hyperplane (Beta,Beta0)is:\n",
    "$$\\mathrm{distance} = \\frac{|\\beta_{0} + \\beta^{T} x|}{||\\beta||}.$$\n",
    "In particular, for the canonical hyperplane, the numerator is equal to one and the distance to the support vectors is\n",
    "$$\\mathrm{distance}_{\\text{ support vectors}} = \\frac{|\\beta_{0} + \\beta^{T} x|}{||\\beta||} = \\frac{1}{||\\beta||}$$\n",
    "Recall that the margin introduced in the previous section, here denoted as M, is twice the distance to the closest examples:\n",
    "$$M = \\frac{2}{||\\beta||}$$\n",
    "Finally, the problem of maximizing M is equivalent to the problem of minimizing a function L(Beta) subject to some constraints. The constraints model the requirement for the hyperplane to classify correctly all the training examples xi.\n",
    "Formally,\n",
    "$$\\min_{\\beta, \\beta_{0}} L(\\beta) = \\frac{1}{2}||\\beta||^{2} \\text{ subject to } y_{i}(\\beta^{T} x_{i} + \\beta_{0}) \\geq 1 \\text{ } \\forall i$$\n",
    "where yi represents each of the labels of the training examples.\n",
    "This is a problem of Lagrangian optimization that can be solved using Lagrange multipliers to obtain the weight vector Beta and the bias Beta0 of the optimal hyperplane.\n",
    "If we want to do non-linear classification we can employ the kernel trick. Using the kernel trick we can \"slice\" the feature space with a Hyperplane. For a quick illustraion of what this looks like, check out both the image and the video below!"
   ]
  }
 ],
 "metadata": {
  "kernelspec": {
   "display_name": "Python [default]",
   "language": "python",
   "name": "python2"
  },
  "language_info": {
   "codemirror_mode": {
    "name": "ipython",
    "version": 2
   },
   "file_extension": ".py",
   "mimetype": "text/x-python",
   "name": "python",
   "nbconvert_exporter": "python",
   "pygments_lexer": "ipython2",
   "version": "2.7.12"
  }
 },
 "nbformat": 4,
 "nbformat_minor": 1
}
